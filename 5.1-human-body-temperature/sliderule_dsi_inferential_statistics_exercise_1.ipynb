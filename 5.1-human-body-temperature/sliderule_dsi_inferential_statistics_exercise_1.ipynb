{
 "cells": [
  {
   "cell_type": "markdown",
   "metadata": {},
   "source": [
    "## What is the true normal human body temperature? \n",
    "\n",
    "#### Background\n",
    "\n",
    "The mean normal body temperature was held to be 37$^{\\circ}$C or 98.6$^{\\circ}$F for more than 120 years since it was first conceptualized and reported by Carl Wunderlich in a famous 1868 book. In 1992, this value was revised to 36.8$^{\\circ}$C or 98.2$^{\\circ}$F. \n",
    "\n",
    "#### Exercise\n",
    "In this exercise, you will analyze a dataset of human body temperatures and employ the concepts of hypothesis testing, confidence intervals, and statistical significance.\n",
    "\n",
    "Answer the following questions **in this notebook below and submit to your Github account**. \n",
    "\n",
    "1.  Is the distribution of body temperatures normal? \n",
    "    - Remember that this is a condition for the CLT, and hence the statistical tests we are using, to apply. \n",
    "2.  Is the true population mean really 98.6 degrees F?\n",
    "    - Bring out the one sample hypothesis test! In this situation, is it approriate to apply a z-test or a t-test? How will the result be different?\n",
    "3.  At what temperature should we consider someone's temperature to be \"abnormal\"?\n",
    "    - Start by computing the margin of error and confidence interval.\n",
    "4.  Is there a significant difference between males and females in normal temperature?\n",
    "    - Set up and solve for a two sample hypothesis testing.\n",
    "\n",
    "You can include written notes in notebook cells using Markdown: \n",
    "   - In the control panel at the top, choose Cell > Cell Type > Markdown\n",
    "   - Markdown syntax: http://nestacms.com/docs/creating-content/markdown-cheat-sheet\n",
    "\n",
    "#### Resources\n",
    "\n",
    "+ Information and data sources: http://www.amstat.org/publications/jse/datasets/normtemp.txt, http://www.amstat.org/publications/jse/jse_data_archive.htm\n",
    "+ Markdown syntax: http://nestacms.com/docs/creating-content/markdown-cheat-sheet\n",
    "\n",
    "****"
   ]
  },
  {
   "cell_type": "markdown",
   "metadata": {},
   "source": [
    "####Note: I'm assuming that the CSV file is the sample size of the true population. This would make sense to Question 2 where we compare the body temperature means from the CSV with the true population mean provided."
   ]
  },
  {
   "cell_type": "code",
   "execution_count": 70,
   "metadata": {
    "collapsed": false
   },
   "outputs": [
    {
     "data": {
      "text/html": [
       "<div>\n",
       "<table border=\"1\" class=\"dataframe\">\n",
       "  <thead>\n",
       "    <tr style=\"text-align: right;\">\n",
       "      <th></th>\n",
       "      <th>temperature</th>\n",
       "      <th>gender</th>\n",
       "      <th>heart_rate</th>\n",
       "    </tr>\n",
       "  </thead>\n",
       "  <tbody>\n",
       "    <tr>\n",
       "      <th>0</th>\n",
       "      <td>99.3</td>\n",
       "      <td>F</td>\n",
       "      <td>68</td>\n",
       "    </tr>\n",
       "    <tr>\n",
       "      <th>1</th>\n",
       "      <td>98.4</td>\n",
       "      <td>F</td>\n",
       "      <td>81</td>\n",
       "    </tr>\n",
       "  </tbody>\n",
       "</table>\n",
       "</div>"
      ],
      "text/plain": [
       "   temperature gender  heart_rate\n",
       "0         99.3      F          68\n",
       "1         98.4      F          81"
      ]
     },
     "execution_count": 70,
     "metadata": {},
     "output_type": "execute_result"
    }
   ],
   "source": [
    "import pandas as pd\n",
    "import math as ma\n",
    "import scipy.special\n",
    "import scipy.stats as st\n",
    "\n",
    "%matplotlib inline\n",
    "\n",
    "sample = pd.read_csv('data/human_body_temperature.csv')\n",
    "sample.head(2)"
   ]
  },
  {
   "cell_type": "markdown",
   "metadata": {},
   "source": [
    "## Q1: Is the distribution of body temperatures normal?\n",
    "\n",
    "### ANSWER: sample distribution is moderately normal.\n",
    "We are making a few assumptions:\n",
    "- the data from the CSV is obtained via random sampling\n",
    "- assuming the sampling is done without replacement, the true population should be around 1300 people (at least 10x of the sample)"
   ]
  },
  {
   "cell_type": "code",
   "execution_count": 3,
   "metadata": {
    "collapsed": false,
    "scrolled": true
   },
   "outputs": [
    {
     "data": {
      "text/plain": [
       "<matplotlib.axes._subplots.AxesSubplot at 0x1076b0090>"
      ]
     },
     "execution_count": 3,
     "metadata": {},
     "output_type": "execute_result"
    },
    {
     "data": {
      "image/png": "[encoded data removed]",
      "text/plain": [
       "<matplotlib.figure.Figure at 0x107722150>"
      ]
     },
     "metadata": {},
     "output_type": "display_data"
    }
   ],
   "source": [
    "sample.temperature.plot(kind='hist')"
   ]
  },
  {
   "cell_type": "markdown",
   "metadata": {},
   "source": [
    "##Q2: Is the true population mean really 98.6 degrees F?\n",
    "### ANSWER: Yes. the true population mean is 98.6 degress F\n",
    "\n",
    "We use the Z-test for this question. This is because our sample size is more than 30. While we do not have the population standard deviation to calculate the standard error [SE = std/sqrt(n)], we can still approximate the Z score by replacing the population standard deviation with the sample standard deviation since the sample size is more than 30.\n",
    "\n",
    "Our hypothesis are as follows:\n",
    "\n",
    "H0: the true population mean is 98.6 degrees F\n",
    "Ha: the true population mean is not 98.6 degrees F\n",
    "\n",
    "Using the Z-test, we calculate the p-value of the sample mean to be extremely small value, approximately p = 0.000. Therefore we accept the null hypothesis for this question."
   ]
  },
  {
   "cell_type": "code",
   "execution_count": 43,
   "metadata": {
    "collapsed": false,
    "scrolled": true
   },
   "outputs": [
    {
     "name": "stdout",
     "output_type": "stream",
     "text": [
      "2.45107850706e-08\n"
     ]
    }
   ],
   "source": [
    "se = sample.temperature.std() / ma.sqrt(len(sample.index))   # calculate standard error\n",
    "z  = float(sample.temperature.mean() - 98.6) / se            # calculate z score\n",
    "print scipy.special.ndtr(z)                                  # show p-value"
   ]
  },
  {
   "cell_type": "markdown",
   "metadata": {},
   "source": [
    "##Q3: At what temperature should we consider someone's temperature to be \"abnormal\"?\n",
    "###ANSWER: At 95% confidence level, abnormal temperatures are below 95.8 and above 100.6 degrees F. At 99.7% confidence level, abnormal temperatures are below 92.2 and above 104.2 degrees F."
   ]
  },
  {
   "cell_type": "code",
   "execution_count": 69,
   "metadata": {
    "collapsed": false
   },
   "outputs": [
    {
     "name": "stdout",
     "output_type": "stream",
     "text": [
      "at 95% confidence level, CI is between 95.8372728158 and 100.661188723\n",
      "at 99.7% confidence level, CI is between 92.2053496679 and 104.293111871\n"
     ]
    }
   ],
   "source": [
    "# calculate margin of error via http://stattrek.com/estimation/margin-of-error.aspx?Tutorial=AP\n",
    "me95 = st.norm.ppf(.95) * sample.temperature.std()\n",
    "me99 = st.norm.ppf(.997) * sample.temperature.std()\n",
    "\n",
    "# calculate confidence interval for 95% level\n",
    "ci95r = str(sample.temperature.mean() + (2.0*me95))\n",
    "ci95l = str(sample.temperature.mean() - (2.0*me95))\n",
    "\n",
    "# calculate confidence interval for 99.7% level\n",
    "ci99r = str(sample.temperature.mean() + (3.0*me99))\n",
    "ci99l = str(sample.temperature.mean() - (3.0*me99))\n",
    "\n",
    "print \"at 95% confidence level, CI is between \" + ci95l + \" and \" + ci95r\n",
    "print \"at 99.7% confidence level, CI is between \" + ci99l + \" and \" + ci99r"
   ]
  },
  {
   "cell_type": "markdown",
   "metadata": {
    "collapsed": true
   },
   "source": [
    "##Q4: Is there a significant difference between males and females in normal temperature?\n",
    "###ANSWER: Yes, there is significant difference between male and female normal temperature\n",
    "\n",
    "We write our hypothesis as follow:\n",
    "H0: There is no significant difference between male and female body temperature\n",
    "Ha: There is significant difference between male and female body temperature\n",
    "\n",
    "We use a z-test for this because we split the sample into male and female, both categories and 65 rows (65 male, 65 female). We assume the distribution for male and female to be normal, however even if the distribution is skewed, we have fulfilled enough sample size (n > 30).\n",
    "\n",
    "Result: the p-value obtained is 0.02 which shows signficance, therefore we have to reject the null hypothesis that stats no difference between male and female body temperature."
   ]
  },
  {
   "cell_type": "code",
   "execution_count": 86,
   "metadata": {
    "collapsed": false
   },
   "outputs": [
    {
     "data": {
      "text/plain": [
       "(-2.2854345381656103, 0.02228736076065755)"
      ]
     },
     "execution_count": 86,
     "metadata": {},
     "output_type": "execute_result"
    }
   ],
   "source": [
    "import statsmodels.stats.weightstats as sm\n",
    "\n",
    "male = sample[sample.gender == \"M\"].temperature\n",
    "female = sample[sample.gender == \"F\"].temperature\n",
    "\n",
    "sm.ztest(male, female)"
   ]
  },
  {
   "cell_type": "code",
   "execution_count": null,
   "metadata": {
    "collapsed": true
   },
   "outputs": [],
   "source": []
  },
  {
   "cell_type": "code",
   "execution_count": null,
   "metadata": {
    "collapsed": true
   },
   "outputs": [],
   "source": []
  },
  {
   "cell_type": "markdown",
   "metadata": {
    "collapsed": true
   },
   "source": []
  }
 ],
 "metadata": {
  "kernelspec": {
   "display_name": "Python 2",
   "language": "python",
   "name": "python2"
  },
  "language_info": {
   "codemirror_mode": {
    "name": "ipython",
    "version": 2
   },
   "file_extension": ".py",
   "mimetype": "text/x-python",
   "name": "python",
   "nbconvert_exporter": "python",
   "pygments_lexer": "ipython2",
   "version": "2.7.10"
  }
 },
 "nbformat": 4,
 "nbformat_minor": 0
}
