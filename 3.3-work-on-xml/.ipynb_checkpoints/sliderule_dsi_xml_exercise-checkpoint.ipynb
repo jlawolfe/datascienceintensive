{
 "cells": [
  {
   "cell_type": "markdown",
   "metadata": {},
   "source": [
    "# XML example and exercise\n",
    "****\n",
    "+ study examples of accessing nodes in XML tree structure  \n",
    "+ work on exercise to be completed and submitted\n",
    "****\n",
    "+ reference: https://docs.python.org/2.7/library/xml.etree.elementtree.html\n",
    "+ data source: http://www.dbis.informatik.uni-goettingen.de/Mondial\n",
    "****"
   ]
  },
  {
   "cell_type": "code",
   "execution_count": 1,
   "metadata": {
    "collapsed": true
   },
   "outputs": [],
   "source": [
    "from xml.etree import ElementTree as ET"
   ]
  },
  {
   "cell_type": "markdown",
   "metadata": {},
   "source": [
    "## XML example\n",
    "\n",
    "+ for details about tree traversal and iterators, see https://docs.python.org/2.7/library/xml.etree.elementtree.html"
   ]
  },
  {
   "cell_type": "code",
   "execution_count": 3,
   "metadata": {
    "collapsed": true
   },
   "outputs": [],
   "source": [
    "document_tree = ET.parse( './data/mondial_database_less.xml' )"
   ]
  },
  {
   "cell_type": "code",
   "execution_count": 4,
   "metadata": {
    "collapsed": false
   },
   "outputs": [
    {
     "name": "stdout",
     "output_type": "stream",
     "text": [
      "Albania\n",
      "Greece\n",
      "Macedonia\n",
      "Serbia\n",
      "Montenegro\n",
      "Kosovo\n",
      "Andorra\n"
     ]
    }
   ],
   "source": [
    "# print names of all countries\n",
    "for child in document_tree.getroot():\n",
    "    print child.find('name').text"
   ]
  },
  {
   "cell_type": "code",
   "execution_count": 5,
   "metadata": {
    "collapsed": false
   },
   "outputs": [
    {
     "name": "stdout",
     "output_type": "stream",
     "text": [
      "* Albania: Tirana, Shkodër, Durrës, Vlorë, Elbasan, Korçë\n",
      "* Greece: Komotini, Kavala, Athina, Peiraias, Peristeri, Acharnes, Patra, Kozani, Kerkyra, Ioannina, Thessaloniki, Iraklio, Chania, Ermoupoli, Rhodes, Tripoli, Lamia, Chalkida, Larissa, Volos, Mytilini, Karyes\n",
      "* Macedonia: Skopje, Kumanovo\n",
      "* Serbia: Beograd, Novi Sad, Niš\n",
      "* Montenegro: Podgorica\n",
      "* Kosovo: Prishtine\n",
      "* Andorra: Andorra la Vella\n"
     ]
    }
   ],
   "source": [
    "# print names of all countries and their cities\n",
    "for element in document_tree.iterfind('country'):\n",
    "    print '* ' + element.find('name').text + ':',\n",
    "    capitals_string = ''\n",
    "    for subelement in element.getiterator('city'):\n",
    "        capitals_string += subelement.find('name').text + ', '\n",
    "    print capitals_string[:-2]"
   ]
  },
  {
   "cell_type": "markdown",
   "metadata": {},
   "source": [
    "****\n",
    "## XML exercise\n",
    "\n",
    "Using data in 'data/mondial_database.xml', the examples above, and refering to https://docs.python.org/2.7/library/xml.etree.elementtree.html, find\n",
    "\n",
    "1. 10 countries with the lowest infant mortality rates\n",
    "2. 10 cities with the largest population\n",
    "3. 10 ethnic groups with the largest overall populations (sum of best/latest estimates over all countries)\n",
    "4. name and country of a) longest river, b) largest lake and c) airport at highest elevation"
   ]
  },
  {
   "cell_type": "code",
   "execution_count": 28,
   "metadata": {
    "collapsed": true
   },
   "outputs": [],
   "source": [
    "# import them libraries\n",
    "from xml.etree import ElementTree as ET\n",
    "import pandas as pd\n",
    "\n",
    "# parse them xml\n",
    "document = ET.parse( './data/mondial_database.xml' )"
   ]
  },
  {
   "cell_type": "code",
   "execution_count": 35,
   "metadata": {
    "collapsed": false
   },
   "outputs": [
    {
     "data": {
      "text/html": [
       "<div>\n",
       "<table border=\"1\" class=\"dataframe\">\n",
       "  <thead>\n",
       "    <tr style=\"text-align: right;\">\n",
       "      <th></th>\n",
       "      <th>infant_mortality</th>\n",
       "    </tr>\n",
       "  </thead>\n",
       "  <tbody>\n",
       "    <tr>\n",
       "      <th>Monaco</th>\n",
       "      <td>1.81</td>\n",
       "    </tr>\n",
       "    <tr>\n",
       "      <th>Japan</th>\n",
       "      <td>2.13</td>\n",
       "    </tr>\n",
       "    <tr>\n",
       "      <th>Bermuda</th>\n",
       "      <td>2.48</td>\n",
       "    </tr>\n",
       "    <tr>\n",
       "      <th>Norway</th>\n",
       "      <td>2.48</td>\n",
       "    </tr>\n",
       "    <tr>\n",
       "      <th>Singapore</th>\n",
       "      <td>2.53</td>\n",
       "    </tr>\n",
       "    <tr>\n",
       "      <th>Sweden</th>\n",
       "      <td>2.60</td>\n",
       "    </tr>\n",
       "    <tr>\n",
       "      <th>Czech Republic</th>\n",
       "      <td>2.63</td>\n",
       "    </tr>\n",
       "    <tr>\n",
       "      <th>Hong Kong</th>\n",
       "      <td>2.73</td>\n",
       "    </tr>\n",
       "    <tr>\n",
       "      <th>Macao</th>\n",
       "      <td>3.13</td>\n",
       "    </tr>\n",
       "    <tr>\n",
       "      <th>Iceland</th>\n",
       "      <td>3.15</td>\n",
       "    </tr>\n",
       "  </tbody>\n",
       "</table>\n",
       "</div>"
      ],
      "text/plain": [
       "                infant_mortality\n",
       "Monaco                      1.81\n",
       "Japan                       2.13\n",
       "Bermuda                     2.48\n",
       "Norway                      2.48\n",
       "Singapore                   2.53\n",
       "Sweden                      2.60\n",
       "Czech Republic              2.63\n",
       "Hong Kong                   2.73\n",
       "Macao                       3.13\n",
       "Iceland                     3.15"
      ]
     },
     "execution_count": 35,
     "metadata": {},
     "output_type": "execute_result"
    }
   ],
   "source": [
    "# QUESTION 1: 10 countries with the lowest infant mortality rates\n",
    "\n",
    "# initialize lists\n",
    "cty = []\n",
    "imt = []\n",
    "\n",
    "# loop through the countries in xml, check if it has 'infant_mortality' element, \n",
    "# insert the country and value into separate lists.\n",
    "for country in document.iter('country'):\n",
    "    i_mortality = country.find('infant_mortality')\n",
    "    if i_mortality is not None:\n",
    "        cty.append(country.find('name').text)\n",
    "        imt.append(float(country.find('infant_mortality').text))\n",
    "\n",
    "# we create a dataframe from the lists and sort it from lowest\n",
    "infant_mortality = pd.DataFrame(imt, index=cty, columns=['infant_mortality'])        \n",
    "infant_mortality.sort('infant_mortality', ascending=True).head(10)"
   ]
  },
  {
   "cell_type": "code",
   "execution_count": 64,
   "metadata": {
    "collapsed": false
   },
   "outputs": [
    {
     "data": {
      "text/html": [
       "<div>\n",
       "<table border=\"1\" class=\"dataframe\">\n",
       "  <thead>\n",
       "    <tr style=\"text-align: right;\">\n",
       "      <th></th>\n",
       "      <th>population</th>\n",
       "    </tr>\n",
       "  </thead>\n",
       "  <tbody>\n",
       "    <tr>\n",
       "      <th>Beograd</th>\n",
       "      <td>1639121</td>\n",
       "    </tr>\n",
       "    <tr>\n",
       "      <th>Montevideo</th>\n",
       "      <td>1318755</td>\n",
       "    </tr>\n",
       "    <tr>\n",
       "      <th>Sofia</th>\n",
       "      <td>1270284</td>\n",
       "    </tr>\n",
       "    <tr>\n",
       "      <th>Yerevan</th>\n",
       "      <td>1060138</td>\n",
       "    </tr>\n",
       "    <tr>\n",
       "      <th>Kathmandu</th>\n",
       "      <td>1003285</td>\n",
       "    </tr>\n",
       "    <tr>\n",
       "      <th>Zagreb</th>\n",
       "      <td>686568</td>\n",
       "    </tr>\n",
       "    <tr>\n",
       "      <th>Kingston</th>\n",
       "      <td>662426</td>\n",
       "    </tr>\n",
       "    <tr>\n",
       "      <th>Rīga</th>\n",
       "      <td>658640</td>\n",
       "    </tr>\n",
       "    <tr>\n",
       "      <th>Vilnius</th>\n",
       "      <td>535631</td>\n",
       "    </tr>\n",
       "    <tr>\n",
       "      <th>Dublin</th>\n",
       "      <td>525383</td>\n",
       "    </tr>\n",
       "  </tbody>\n",
       "</table>\n",
       "</div>"
      ],
      "text/plain": [
       "            population\n",
       "Beograd        1639121\n",
       "Montevideo     1318755\n",
       "Sofia          1270284\n",
       "Yerevan        1060138\n",
       "Kathmandu      1003285\n",
       "Zagreb          686568\n",
       "Kingston        662426\n",
       "Rīga            658640\n",
       "Vilnius         535631\n",
       "Dublin          525383"
      ]
     },
     "execution_count": 64,
     "metadata": {},
     "output_type": "execute_result"
    }
   ],
   "source": [
    "# QUESTION 2: 10 cities with the largest population\n",
    "\n",
    "# initialize them lists again...\n",
    "ct  = []\n",
    "pop = []\n",
    "\n",
    "# loop through the countries, get all the cities\n",
    "for country in document.iter('country'):\n",
    "    cities = country.findall('city')\n",
    "    for city in cities:\n",
    "        if city is not None: \n",
    "            # since there are multiple 'population' elements,\n",
    "            # i decided to take only population at year 2011\n",
    "            population = city.find(\"population[@year='2011']\")\n",
    "            if population is not None:\n",
    "                # put them values in the list\n",
    "                ct.append(city.find('name').text)\n",
    "                pop.append(int(population.text))\n",
    "            \n",
    "# put them list in dataframe, sort it by population, and take the top 10\n",
    "population_df = pd.DataFrame(pop, index=ct, columns=['population'])\n",
    "population_df.sort('population', ascending=False).head(10)"
   ]
  },
  {
   "cell_type": "code",
   "execution_count": 65,
   "metadata": {
    "collapsed": false
   },
   "outputs": [
    {
     "data": {
      "text/html": [
       "<div>\n",
       "<table border=\"1\" class=\"dataframe\">\n",
       "  <thead>\n",
       "    <tr style=\"text-align: right;\">\n",
       "      <th></th>\n",
       "      <th>name</th>\n",
       "      <th>ethnicPopulation</th>\n",
       "      <th>group</th>\n",
       "    </tr>\n",
       "  </thead>\n",
       "  <tbody>\n",
       "    <tr>\n",
       "      <th>44</th>\n",
       "      <td>China</td>\n",
       "      <td>1245058800</td>\n",
       "      <td>Han Chinese</td>\n",
       "    </tr>\n",
       "    <tr>\n",
       "      <th>97</th>\n",
       "      <td>United States</td>\n",
       "      <td>254958101</td>\n",
       "      <td>European</td>\n",
       "    </tr>\n",
       "    <tr>\n",
       "      <th>81</th>\n",
       "      <td>Japan</td>\n",
       "      <td>126534212</td>\n",
       "      <td>Japanese</td>\n",
       "    </tr>\n",
       "    <tr>\n",
       "      <th>21</th>\n",
       "      <td>Russia</td>\n",
       "      <td>114646210</td>\n",
       "      <td>Russian</td>\n",
       "    </tr>\n",
       "    <tr>\n",
       "      <th>165</th>\n",
       "      <td>Nigeria</td>\n",
       "      <td>94661176</td>\n",
       "      <td>African</td>\n",
       "    </tr>\n",
       "    <tr>\n",
       "      <th>23</th>\n",
       "      <td>Luxembourg</td>\n",
       "      <td>90653833</td>\n",
       "      <td>Luxembourgish</td>\n",
       "    </tr>\n",
       "    <tr>\n",
       "      <th>22</th>\n",
       "      <td>Belgium</td>\n",
       "      <td>83326819</td>\n",
       "      <td>Fleming</td>\n",
       "    </tr>\n",
       "    <tr>\n",
       "      <th>72</th>\n",
       "      <td>Egypt</td>\n",
       "      <td>82830376</td>\n",
       "      <td>Eastern Hamitic</td>\n",
       "    </tr>\n",
       "    <tr>\n",
       "      <th>62</th>\n",
       "      <td>Vietnam</td>\n",
       "      <td>76078375</td>\n",
       "      <td>Viet/Kinh</td>\n",
       "    </tr>\n",
       "    <tr>\n",
       "      <th>95</th>\n",
       "      <td>British Virgin Islands</td>\n",
       "      <td>71788221</td>\n",
       "      <td>Black</td>\n",
       "    </tr>\n",
       "  </tbody>\n",
       "</table>\n",
       "</div>"
      ],
      "text/plain": [
       "                       name  ethnicPopulation            group\n",
       "44                    China        1245058800      Han Chinese\n",
       "97            United States         254958101         European\n",
       "81                    Japan         126534212         Japanese\n",
       "21                   Russia         114646210          Russian\n",
       "165                 Nigeria          94661176          African\n",
       "23               Luxembourg          90653833    Luxembourgish\n",
       "22                  Belgium          83326819          Fleming\n",
       "72                    Egypt          82830376  Eastern Hamitic\n",
       "62                  Vietnam          76078375        Viet/Kinh\n",
       "95   British Virgin Islands          71788221            Black"
      ]
     },
     "execution_count": 65,
     "metadata": {},
     "output_type": "execute_result"
    }
   ],
   "source": [
    "# Question 3\n",
    "\n",
    "keyword    = ['estimate', 'est.']\n",
    "ethnic_col = ['name', 'ethnicPopulation', 'group']\n",
    "ethnic_df  = pd.DataFrame(columns=ethnic_col)\n",
    "\n",
    "for countries in document.iterfind('country'):\n",
    "    # re-initialise year variable to compare latest year for each country\n",
    "    latest_year = 0\n",
    "    highest_per = 0\n",
    "    \n",
    "    # if country has no ethnicgroup, will skip that country then\n",
    "    if countries.find('ethnicgroup') is not None:\n",
    "        for perc in countries.iterfind('ethnicgroup'):\n",
    "            if perc.attrib['percentage'] > highest_per:\n",
    "                highest_per = perc.attrib['percentage']\n",
    "                \n",
    "        highest_group = countries.find(\"ethnicgroup[@percentage='\"+highest_per+\"']\").text\n",
    "        # print countries.find('name').text + ' ' + highest_per\n",
    "        # loop through the keyword dictionary to get estimated population element\n",
    "        # that has different keywords.\n",
    "        for key in keyword:\n",
    "            for est_pop in countries.iterfind(\"population[@measured='\"+key+\"']\"):\n",
    "                if est_pop is not None and est_pop.attrib['year'] > latest_year:\n",
    "                    latest_year  = est_pop.attrib['year']\n",
    "                    estimate_pop = est_pop.text # always update the estimated population for latest year\n",
    "        \n",
    "        # calculate the ethnic population by getting the latest estimate population and highest ethnic percentage\n",
    "        ethnic_pop = int(int(estimate_pop) * float(highest_per) / 100)\n",
    "        \n",
    "        # create a new entry and append to the DataFrame\n",
    "        entry = pd.DataFrame([[countries.find('name').text, int(ethnic_pop), highest_group]], columns=ethnic_col) \n",
    "        ethnic_df = ethnic_df.append(entry, ignore_index=True)\n",
    "\n",
    "# sort the DataFrame and get the top 10\n",
    "ethnic_df.sort('ethnicPopulation', ascending=False).head(10)"
   ]
  },
  {
   "cell_type": "code",
   "execution_count": 107,
   "metadata": {
    "collapsed": false
   },
   "outputs": [
    {
     "name": "stdout",
     "output_type": "stream",
     "text": [
      "Amazonas-6448KM Country: Colombia | Brazil | Peru | \n",
      "Caspian Sea-386400KM Country: Russia | Azerbaijan | Kazakhstan | Iran | Turkmenistan | \n",
      "El Alto Intl-4063M Country: Bolivia\n"
     ]
    }
   ],
   "source": [
    "# Question 4\n",
    "\n",
    "r_length = 0  # river length\n",
    "l_area   = 0  # lake area\n",
    "a_elev   = 0  # airport elevation\n",
    "\n",
    "# get the longest river\n",
    "for rivers in document.iterfind('river'):\n",
    "    # compare the longest river. make sure all rivers have length\n",
    "    if rivers.find('length') is not None:\n",
    "        if float(rivers.find('length').text) > float(r_length):\n",
    "            r_name   = rivers.find('name').text\n",
    "            r_length = rivers.find('length').text\n",
    "            r_loc    = rivers.attrib['country'].split()\n",
    "\n",
    "riverCountryList = 'Country: '\n",
    "for cty in r_loc:\n",
    "    thisCountry = document.find(\"country[@car_code='\"+cty+\"']\")\n",
    "    if thisCountry is not None:\n",
    "        riverCountryList += thisCountry.find('name').text + ' | '\n",
    "\n",
    "        \n",
    "# get the largest lake            \n",
    "for lakes in document.iterfind('lake'):\n",
    "    # compare the largest lake using area. make sure all lakes have area\n",
    "    if lakes.find('area') is not None and float(lakes.find('area').text) > float(l_area):\n",
    "        l_name = lakes.find('name').text\n",
    "        l_area = lakes.find('area').text\n",
    "        l_loc  = lakes.attrib['country'].split()  # split multiple countries from string to list\n",
    "\n",
    "# from the country code we collect, get the country name\n",
    "lakeCountryList = 'Country: '\n",
    "for cty in l_loc:\n",
    "    thisCountry = document.find(\"country[@car_code='\"+cty+\"']\")\n",
    "    if thisCountry is not None:\n",
    "        lakeCountryList += thisCountry.find('name').text + ' | '\n",
    "        \n",
    "        \n",
    "# get the highest elevated airport\n",
    "for airports in document.iterfind('airport'):\n",
    "    # compare the highest elevation using elevation. make sure all airports have elevation and is a digit\n",
    "    thisElev = airports.find('elevation').text\n",
    "    \n",
    "    if thisElev is not None and thisElev.isdigit() and float(thisElev) > float(a_elev):\n",
    "        a_name = airports.find('name').text\n",
    "        a_elev = airports.find('elevation').text\n",
    "        a_loc  = airports.attrib['country'].split()\n",
    "\n",
    "airCountryList = 'Country: '\n",
    "for cty in a_loc:\n",
    "    thisCountry = document.find(\"country[@car_code='\"+cty+\"']\")\n",
    "    if thisCountry is not None:\n",
    "        airCountryList += thisCountry.find('name').text\n",
    "\n",
    "print r_name + '-' + r_length + 'KM ' + riverCountryList\n",
    "print l_name + '-' + l_area + 'KM ' + lakeCountryList\n",
    "print a_name + '-' + a_elev + 'M ' + airCountryList\n"
   ]
  },
  {
   "cell_type": "code",
   "execution_count": null,
   "metadata": {
    "collapsed": true
   },
   "outputs": [],
   "source": []
  }
 ],
 "metadata": {
  "kernelspec": {
   "display_name": "Python 2",
   "language": "python",
   "name": "python2"
  },
  "language_info": {
   "codemirror_mode": {
    "name": "ipython",
    "version": 2
   },
   "file_extension": ".py",
   "mimetype": "text/x-python",
   "name": "python",
   "nbconvert_exporter": "python",
   "pygments_lexer": "ipython2",
   "version": "2.7.10"
  }
 },
 "nbformat": 4,
 "nbformat_minor": 0
}
