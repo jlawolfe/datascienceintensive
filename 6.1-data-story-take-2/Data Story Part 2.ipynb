{
 "cells": [
  {
   "cell_type": "code",
   "execution_count": 16,
   "metadata": {
    "collapsed": false
   },
   "outputs": [
    {
     "data": {
      "text/html": [
       "<style>h3 {\n",
       "    color: white;\n",
       "    background-color: black;\n",
       "    padding: 0.5em;\n",
       "}\n",
       "body {\n",
       "    margin: 0;\n",
       "    font-family: Helvetica;\n",
       "}\n",
       "table.dataframe {\n",
       "    border-collapse: collapse;\n",
       "    border: none;\n",
       "}\n",
       "table.dataframe tr {\n",
       "    border: none;\n",
       "}\n",
       "table.dataframe td, table.dataframe th {\n",
       "    margin: 0;\n",
       "    border: 1px solid white;\n",
       "    padding-left: 0.25em;\n",
       "    padding-right: 0.25em;\n",
       "}\n",
       "table.dataframe th:not(:empty) {\n",
       "    background-color: #fec;\n",
       "    text-align: left;\n",
       "    font-weight: normal;\n",
       "}\n",
       "table.dataframe tr:nth-child(2) th:empty {\n",
       "    border-left: none;\n",
       "    border-right: 1px dashed #888;\n",
       "}\n",
       "table.dataframe td {\n",
       "    border: 2px solid #ccf;\n",
       "    background-color: #f4f4ff;\n",
       "}\n",
       "</style>."
      ],
      "text/plain": [
       "<IPython.core.display.HTML object>"
      ]
     },
     "execution_count": 16,
     "metadata": {},
     "output_type": "execute_result"
    }
   ],
   "source": [
    "import pandas as pd\n",
    "import numpy as np\n",
    "import matplotlib.pyplot as plt\n",
    "\n",
    "%matplotlib inline\n",
    "\n",
    "from IPython.core.display import HTML\n",
    "css = open('../dataframe-styles/style-notebook.css').read() + open('../dataframe-styles/style-table.css').read()\n",
    "HTML('<style>{}</style>.'.format(css))"
   ]
  },
  {
   "cell_type": "code",
   "execution_count": 120,
   "metadata": {
    "collapsed": false
   },
   "outputs": [
    {
     "data": {
      "text/html": [
       "<div>\n",
       "<table border=\"1\" class=\"dataframe\">\n",
       "  <thead>\n",
       "    <tr style=\"text-align: right;\">\n",
       "      <th></th>\n",
       "      <th>Date</th>\n",
       "      <th>Season</th>\n",
       "      <th>HomeTeam</th>\n",
       "      <th>HomeRank</th>\n",
       "      <th>AwayTeam</th>\n",
       "      <th>AwayRank</th>\n",
       "      <th>Referee</th>\n",
       "      <th>FTHG</th>\n",
       "      <th>FTAG</th>\n",
       "      <th>HS</th>\n",
       "      <th>AS</th>\n",
       "      <th>HST</th>\n",
       "      <th>AST</th>\n",
       "      <th>HF</th>\n",
       "      <th>AF</th>\n",
       "      <th>HC</th>\n",
       "      <th>AC</th>\n",
       "    </tr>\n",
       "  </thead>\n",
       "  <tbody>\n",
       "    <tr>\n",
       "      <th>0</th>\n",
       "      <td>16/08/14</td>\n",
       "      <td>2015</td>\n",
       "      <td>Arsenal</td>\n",
       "      <td>3</td>\n",
       "      <td>Crystal Palace</td>\n",
       "      <td>10</td>\n",
       "      <td>J Moss</td>\n",
       "      <td>2</td>\n",
       "      <td>1</td>\n",
       "      <td>14</td>\n",
       "      <td>4</td>\n",
       "      <td>6</td>\n",
       "      <td>2</td>\n",
       "      <td>13</td>\n",
       "      <td>19</td>\n",
       "      <td>9</td>\n",
       "      <td>3</td>\n",
       "    </tr>\n",
       "    <tr>\n",
       "      <th>1</th>\n",
       "      <td>16/08/14</td>\n",
       "      <td>2015</td>\n",
       "      <td>Leicester</td>\n",
       "      <td>14</td>\n",
       "      <td>Everton</td>\n",
       "      <td>11</td>\n",
       "      <td>M Jones</td>\n",
       "      <td>2</td>\n",
       "      <td>2</td>\n",
       "      <td>11</td>\n",
       "      <td>13</td>\n",
       "      <td>3</td>\n",
       "      <td>3</td>\n",
       "      <td>16</td>\n",
       "      <td>10</td>\n",
       "      <td>3</td>\n",
       "      <td>6</td>\n",
       "    </tr>\n",
       "    <tr>\n",
       "      <th>2</th>\n",
       "      <td>16/08/14</td>\n",
       "      <td>2015</td>\n",
       "      <td>Man United</td>\n",
       "      <td>4</td>\n",
       "      <td>Swansea</td>\n",
       "      <td>8</td>\n",
       "      <td>M Dean</td>\n",
       "      <td>1</td>\n",
       "      <td>2</td>\n",
       "      <td>14</td>\n",
       "      <td>5</td>\n",
       "      <td>5</td>\n",
       "      <td>4</td>\n",
       "      <td>14</td>\n",
       "      <td>20</td>\n",
       "      <td>4</td>\n",
       "      <td>0</td>\n",
       "    </tr>\n",
       "    <tr>\n",
       "      <th>3</th>\n",
       "      <td>16/08/14</td>\n",
       "      <td>2015</td>\n",
       "      <td>QPR</td>\n",
       "      <td>20</td>\n",
       "      <td>Hull</td>\n",
       "      <td>18</td>\n",
       "      <td>C Pawson</td>\n",
       "      <td>0</td>\n",
       "      <td>1</td>\n",
       "      <td>19</td>\n",
       "      <td>11</td>\n",
       "      <td>6</td>\n",
       "      <td>4</td>\n",
       "      <td>10</td>\n",
       "      <td>10</td>\n",
       "      <td>8</td>\n",
       "      <td>9</td>\n",
       "    </tr>\n",
       "    <tr>\n",
       "      <th>4</th>\n",
       "      <td>16/08/14</td>\n",
       "      <td>2015</td>\n",
       "      <td>Stoke</td>\n",
       "      <td>9</td>\n",
       "      <td>Aston Villa</td>\n",
       "      <td>17</td>\n",
       "      <td>A Taylor</td>\n",
       "      <td>0</td>\n",
       "      <td>1</td>\n",
       "      <td>12</td>\n",
       "      <td>7</td>\n",
       "      <td>2</td>\n",
       "      <td>2</td>\n",
       "      <td>14</td>\n",
       "      <td>9</td>\n",
       "      <td>2</td>\n",
       "      <td>8</td>\n",
       "    </tr>\n",
       "  </tbody>\n",
       "</table>\n",
       "</div>"
      ],
      "text/plain": [
       "       Date Season    HomeTeam  HomeRank        AwayTeam  AwayRank   Referee  \\\n",
       "0  16/08/14   2015     Arsenal         3  Crystal Palace        10    J Moss   \n",
       "1  16/08/14   2015   Leicester        14         Everton        11   M Jones   \n",
       "2  16/08/14   2015  Man United         4         Swansea         8    M Dean   \n",
       "3  16/08/14   2015         QPR        20            Hull        18  C Pawson   \n",
       "4  16/08/14   2015       Stoke         9     Aston Villa        17  A Taylor   \n",
       "\n",
       "   FTHG  FTAG  HS  AS  HST  AST  HF  AF  HC  AC  \n",
       "0     2     1  14   4    6    2  13  19   9   3  \n",
       "1     2     2  11  13    3    3  16  10   3   6  \n",
       "2     1     2  14   5    5    4  14  20   4   0  \n",
       "3     0     1  19  11    6    4  10  10   8   9  \n",
       "4     0     1  12   7    2    2  14   9   2   8  "
      ]
     },
     "execution_count": 120,
     "metadata": {},
     "output_type": "execute_result"
    }
   ],
   "source": [
    "# load the sample data into DataFrame\n",
    "s14 = pd.DataFrame.from_csv('epl-14-15.csv', index_col=None, encoding='utf-8')\n",
    "s13 = pd.DataFrame.from_csv('epl-13-14.csv', index_col=None, encoding='utf-8')\n",
    "s12 = pd.DataFrame.from_csv('epl-12-13.csv', index_col=None, encoding='utf-8')\n",
    "\n",
    "# create the epl standings and short form name\n",
    "r14 = {'Chelsea':1, 'Man City':2, 'Arsenal':3, 'Man United':4, 'Tottenham':5, 'Liverpool':6, 'Southampton':7, 'Swansea':8, 'Stoke':9, 'Crystal Palace':10, 'Everton':11, 'West Ham':12, 'West Brom':13, 'Leicester':14, 'Newcastle':15, 'Sunderland':16, 'Aston Villa':17, 'Hull':18, 'Burnley':19, 'QPR':20}\n",
    "r13 = {'Man City':1, 'Liverpool':2, 'Chelsea':3, 'Arsenal':4, 'Everton':5, 'Tottenham':6, 'Man United':7, 'Southampton':8, 'Stoke':9, 'Newcastle':10, 'Crystal Palace':11, 'Swansea':12, 'West Ham':13, 'Sunderland':14, 'Aston Villa':15, 'Hull':16, 'West Brom':17, 'Norwich':18, 'Fulham':19, 'Cardiff':20}\n",
    "r12 = {'Man United':1, 'Man City':2, 'Chelsea':3, 'Arsenal':4, 'Tottenham':5, 'Everton':6, 'Liverpool':7, 'West Brom':8, 'Swansea':9, 'West Ham':10, 'Norwich':11, 'Fulham':12, 'Stoke':13, 'Southampton':14, 'Aston Villa':15, 'Newcastle':16, 'Sunderland':17, 'Wigan':18, 'Reading':19, 'QPR':20}\n",
    "sfn = {1:'CHE', 2:'MNC', 3:'ARS', 4:'MNU', 5:'TOT', 6:'LIV', 7:'SOT', 8:'SWA', 9:'STO', 10:'CRY', 11:'EVE', 12:'WHU', 13:'WBA', 14:'LEI', 15:'NEW', 16:'SUN', 17:'AST', 18:'HUL', 19:'BUR', 20:'QPR'}\n",
    "\n",
    "# assign the appropriate season and ranking to the dataframe\n",
    "for i in s14.index:\n",
    "    s14.loc[i, 'Season'] = \"2015\"\n",
    "    s14.loc[i, 'HomeRank'] = r14[s14.loc[i].HomeTeam]\n",
    "    s14.loc[i, 'AwayRank'] = r14[s14.loc[i].AwayTeam]\n",
    "\n",
    "for i in s13.index:\n",
    "    s13.loc[i, 'Season'] = \"2014\"\n",
    "    s13.loc[i, 'HomeRank'] = r13[s13.loc[i].HomeTeam]\n",
    "    s13.loc[i, 'AwayRank'] = r13[s13.loc[i].AwayTeam]\n",
    "    \n",
    "for i in s12.index:\n",
    "    s12.loc[i, 'Season'] = \"2013\"\n",
    "    s12.loc[i, 'HomeRank'] = r12[s12.loc[i].HomeTeam]\n",
    "    s12.loc[i, 'AwayRank'] = r12[s12.loc[i].AwayTeam]\n",
    "\n",
    "# concat all the seasons into one DataFrame\n",
    "warehouse = pd.concat([s14, s13, s12]).reset_index()\n",
    "epl = warehouse[['Date', 'Season', 'HomeTeam', 'HomeRank', 'AwayTeam', 'AwayRank', 'Referee', 'FTHG', 'FTAG', 'HS', 'AS', 'HST', 'AST', 'HF', 'AF', 'HC', 'AC']]\n",
    "\n",
    "epl.head()"
   ]
  },
  {
   "cell_type": "code",
   "execution_count": 129,
   "metadata": {
    "collapsed": false
   },
   "outputs": [
    {
     "data": {
      "text/plain": [
       "<matplotlib.axes._subplots.AxesSubplot at 0x11b027490>"
      ]
     },
     "execution_count": 129,
     "metadata": {},
     "output_type": "execute_result"
    },
    {
     "data": {
      "image/png": "[encoded data removed]",
      "text/plain": [
       "<matplotlib.figure.Figure at 0x10ef69f10>"
      ]
     },
     "metadata": {},
     "output_type": "display_data"
    }
   ],
   "source": [
    "# HYPOTHESIS\n",
    "# the more shots on target the team gets, the higher rank that team gets\n",
    "sect = epl[epl.Season == '2015']\n",
    "sot = pd.DataFrame()\n",
    "acc = pd.DataFrame()\n",
    "\n",
    "fig, axes = plt.subplots(nrows=1,ncols=2)\n",
    "\n",
    "\n",
    "# CALCULATING CORRELATION BETWEEN SHOTS AND RANK_POWER\n",
    "place = 1\n",
    "while place < 21:\n",
    "    # rank_power is the inverse of rank. the higher the team's standings, the higher the power\n",
    "    sot.loc[place, \"rank_power\"] = 21 - place \n",
    "    sot.loc[place, \"shots\"] = float(sect[sect.HomeRank == place].HS.sum() + sect[sect.AwayRank == place].AS.sum())/36\n",
    "    place += 1\n",
    "    \n",
    "cor_sot = sot['shots'].corr(sot['rank_power'])\n",
    "sot.plot(kind='scatter', x='shots', y='rank_power', ax=axes[0], figsize=(12, 5), title=\"Correlation Coefficient = \" + str(cor_sot))\n",
    "    \n",
    "# CALCULATING CORRELATION BETWEEN ACCURACY AND RANK_POWER\n",
    "p = 1\n",
    "while p < 21:\n",
    "    acc.loc[p, \"rank_power\"] = 21 - p\n",
    "    sum_goal = float(sect[sect.HomeRank == p].FTHG.sum() + sect[sect.AwayRank == p].FTAG.sum())\n",
    "    sum_shot = float(sect[sect.HomeRank == p].HS.sum() + sect[sect.AwayRank == p].AS.sum())\n",
    "    acc.loc[p, \"accuracy\"] = sum_goal/sum_shot\n",
    "    p += 1\n",
    "\n",
    "cor_acc = acc['accuracy'].corr(acc['rank_power'])\n",
    "acc.plot(kind='scatter', x='accuracy', y='rank_power', ax=axes[1], figsize=(12, 5), title=\"Correlation Coefficient = \" + str(cor_acc))\n"
   ]
  },
  {
   "cell_type": "code",
   "execution_count": 130,
   "metadata": {
    "collapsed": false,
    "scrolled": true
   },
   "outputs": [
    {
     "data": {
      "text/plain": [
       "<matplotlib.axes._subplots.AxesSubplot at 0x11bb85e90>"
      ]
     },
     "execution_count": 130,
     "metadata": {},
     "output_type": "execute_result"
    },
    {
     "data": {
      "image/png": "[encoded data removed]",
      "text/plain": [
       "<matplotlib.figure.Figure at 0x11b923050>"
      ]
     },
     "metadata": {},
     "output_type": "display_data"
    }
   ],
   "source": [
    "# BOXPLOT \n",
    "\n",
    "# option: create a section if we want results from 1 season only\n",
    "sect  = epl[epl.Season == '2015']\n",
    "home_shot = pd.DataFrame()\n",
    "away_shot = pd.DataFrame()\n",
    "\n",
    "fig, axes = plt.subplots(nrows=1,ncols=2)\n",
    "\n",
    "# start the loop from placing 1-20, get the goals scored per match by sum of goals divide 36 (total matches played)\n",
    "place = 1\n",
    "while place < 21:\n",
    "    g_count = 1\n",
    "    for game in sect[sect.HomeRank == place].HS:\n",
    "        home_shot.loc[sfn[place], \"g\"+str(g_count)] = game\n",
    "        g_count += 1\n",
    "    place += 1\n",
    "    \n",
    "home_shot.transpose().plot(kind='box', ax=axes[0], figsize=(20,7), title=\"Playing as Home\")\n",
    "\n",
    "place = 1\n",
    "while place < 21:\n",
    "    g_count = 1\n",
    "    for game in sect[sect.AwayRank == place].AS:\n",
    "        away_shot.loc[sfn[place], \"g\"+str(g_count)] = game\n",
    "        g_count += 1\n",
    "    place += 1\n",
    "\n",
    "away_shot.transpose().plot(kind='box', ax=axes[1], figsize=(20,7), title=\"Playing as Away\")"
   ]
  },
  {
   "cell_type": "code",
   "execution_count": 104,
   "metadata": {
    "collapsed": false
   },
   "outputs": [],
   "source": []
  },
  {
   "cell_type": "code",
   "execution_count": null,
   "metadata": {
    "collapsed": true
   },
   "outputs": [],
   "source": []
  }
 ],
 "metadata": {
  "kernelspec": {
   "display_name": "Python 2",
   "language": "python",
   "name": "python2"
  },
  "language_info": {
   "codemirror_mode": {
    "name": "ipython",
    "version": 2
   },
   "file_extension": ".py",
   "mimetype": "text/x-python",
   "name": "python",
   "nbconvert_exporter": "python",
   "pygments_lexer": "ipython2",
   "version": "2.7.10"
  }
 },
 "nbformat": 4,
 "nbformat_minor": 0
}
